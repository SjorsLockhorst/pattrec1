{
 "cells": [
  {
   "cell_type": "markdown",
   "id": "f3edecdf",
   "metadata": {},
   "source": [
    "# Group Assignment Pattern Recognition"
   ]
  },
  {
   "cell_type": "code",
   "execution_count": 2,
   "id": "25f5d20b",
   "metadata": {},
   "outputs": [],
   "source": [
    "import pandas as pd\n",
    "import numpy as np\n",
    "import matplotlib.pyplot as plt\n",
    "from sklearn.feature_selection import VarianceThreshold\n",
    "from scipy import stats"
   ]
  },
  {
   "cell_type": "code",
   "execution_count": 3,
   "id": "c40d4305",
   "metadata": {},
   "outputs": [],
   "source": [
    "mnist = pd.read_csv('mnist.csv').values"
   ]
  },
  {
   "cell_type": "code",
   "execution_count": 4,
   "id": "00fe62a3",
   "metadata": {},
   "outputs": [
    {
     "data": {
      "image/png": "[encoded data removed]",
      "text/plain": [
       "<Figure size 432x288 with 1 Axes>"
      ]
     },
     "metadata": {
      "needs_background": "light"
     },
     "output_type": "display_data"
    }
   ],
   "source": [
    "labels = mnist[:, 0]\n",
    "digits = mnist[:, 1:]\n",
    "img_size = 28\n",
    "plt.imshow(digits[15].reshape(img_size, img_size))\n",
    "plt.show()"
   ]
  },
  {
   "cell_type": "markdown",
   "id": "8809a6e7",
   "metadata": {},
   "source": [
    "## Task 1"
   ]
  },
  {
   "cell_type": "code",
   "execution_count": 81,
   "id": "d0c98990",
   "metadata": {},
   "outputs": [
    {
     "data": {
      "text/html": [
       "<div>\n",
       "<style scoped>\n",
       "    .dataframe tbody tr th:only-of-type {\n",
       "        vertical-align: middle;\n",
       "    }\n",
       "\n",
       "    .dataframe tbody tr th {\n",
       "        vertical-align: top;\n",
       "    }\n",
       "\n",
       "    .dataframe thead th {\n",
       "        text-align: right;\n",
       "    }\n",
       "</style>\n",
       "<table border=\"1\" class=\"dataframe\">\n",
       "  <thead>\n",
       "    <tr style=\"text-align: right;\">\n",
       "      <th></th>\n",
       "      <th>0</th>\n",
       "      <th>1</th>\n",
       "      <th>2</th>\n",
       "      <th>3</th>\n",
       "      <th>4</th>\n",
       "      <th>5</th>\n",
       "      <th>6</th>\n",
       "      <th>7</th>\n",
       "      <th>8</th>\n",
       "      <th>9</th>\n",
       "      <th>...</th>\n",
       "      <th>774</th>\n",
       "      <th>775</th>\n",
       "      <th>776</th>\n",
       "      <th>777</th>\n",
       "      <th>778</th>\n",
       "      <th>779</th>\n",
       "      <th>780</th>\n",
       "      <th>781</th>\n",
       "      <th>782</th>\n",
       "      <th>783</th>\n",
       "    </tr>\n",
       "  </thead>\n",
       "  <tbody>\n",
       "    <tr>\n",
       "      <th>count</th>\n",
       "      <td>42000.0</td>\n",
       "      <td>42000.0</td>\n",
       "      <td>42000.0</td>\n",
       "      <td>42000.0</td>\n",
       "      <td>42000.0</td>\n",
       "      <td>42000.0</td>\n",
       "      <td>42000.0</td>\n",
       "      <td>42000.0</td>\n",
       "      <td>42000.0</td>\n",
       "      <td>42000.0</td>\n",
       "      <td>...</td>\n",
       "      <td>42000.000000</td>\n",
       "      <td>42000.000000</td>\n",
       "      <td>42000.000000</td>\n",
       "      <td>42000.00000</td>\n",
       "      <td>42000.000000</td>\n",
       "      <td>42000.000000</td>\n",
       "      <td>42000.0</td>\n",
       "      <td>42000.0</td>\n",
       "      <td>42000.0</td>\n",
       "      <td>42000.0</td>\n",
       "    </tr>\n",
       "    <tr>\n",
       "      <th>mean</th>\n",
       "      <td>0.0</td>\n",
       "      <td>0.0</td>\n",
       "      <td>0.0</td>\n",
       "      <td>0.0</td>\n",
       "      <td>0.0</td>\n",
       "      <td>0.0</td>\n",
       "      <td>0.0</td>\n",
       "      <td>0.0</td>\n",
       "      <td>0.0</td>\n",
       "      <td>0.0</td>\n",
       "      <td>...</td>\n",
       "      <td>0.219286</td>\n",
       "      <td>0.117095</td>\n",
       "      <td>0.059024</td>\n",
       "      <td>0.02019</td>\n",
       "      <td>0.017238</td>\n",
       "      <td>0.002857</td>\n",
       "      <td>0.0</td>\n",
       "      <td>0.0</td>\n",
       "      <td>0.0</td>\n",
       "      <td>0.0</td>\n",
       "    </tr>\n",
       "    <tr>\n",
       "      <th>std</th>\n",
       "      <td>0.0</td>\n",
       "      <td>0.0</td>\n",
       "      <td>0.0</td>\n",
       "      <td>0.0</td>\n",
       "      <td>0.0</td>\n",
       "      <td>0.0</td>\n",
       "      <td>0.0</td>\n",
       "      <td>0.0</td>\n",
       "      <td>0.0</td>\n",
       "      <td>0.0</td>\n",
       "      <td>...</td>\n",
       "      <td>6.312890</td>\n",
       "      <td>4.633819</td>\n",
       "      <td>3.274488</td>\n",
       "      <td>1.75987</td>\n",
       "      <td>1.894498</td>\n",
       "      <td>0.414264</td>\n",
       "      <td>0.0</td>\n",
       "      <td>0.0</td>\n",
       "      <td>0.0</td>\n",
       "      <td>0.0</td>\n",
       "    </tr>\n",
       "    <tr>\n",
       "      <th>min</th>\n",
       "      <td>0.0</td>\n",
       "      <td>0.0</td>\n",
       "      <td>0.0</td>\n",
       "      <td>0.0</td>\n",
       "      <td>0.0</td>\n",
       "      <td>0.0</td>\n",
       "      <td>0.0</td>\n",
       "      <td>0.0</td>\n",
       "      <td>0.0</td>\n",
       "      <td>0.0</td>\n",
       "      <td>...</td>\n",
       "      <td>0.000000</td>\n",
       "      <td>0.000000</td>\n",
       "      <td>0.000000</td>\n",
       "      <td>0.00000</td>\n",
       "      <td>0.000000</td>\n",
       "      <td>0.000000</td>\n",
       "      <td>0.0</td>\n",
       "      <td>0.0</td>\n",
       "      <td>0.0</td>\n",
       "      <td>0.0</td>\n",
       "    </tr>\n",
       "    <tr>\n",
       "      <th>25%</th>\n",
       "      <td>0.0</td>\n",
       "      <td>0.0</td>\n",
       "      <td>0.0</td>\n",
       "      <td>0.0</td>\n",
       "      <td>0.0</td>\n",
       "      <td>0.0</td>\n",
       "      <td>0.0</td>\n",
       "      <td>0.0</td>\n",
       "      <td>0.0</td>\n",
       "      <td>0.0</td>\n",
       "      <td>...</td>\n",
       "      <td>0.000000</td>\n",
       "      <td>0.000000</td>\n",
       "      <td>0.000000</td>\n",
       "      <td>0.00000</td>\n",
       "      <td>0.000000</td>\n",
       "      <td>0.000000</td>\n",
       "      <td>0.0</td>\n",
       "      <td>0.0</td>\n",
       "      <td>0.0</td>\n",
       "      <td>0.0</td>\n",
       "    </tr>\n",
       "    <tr>\n",
       "      <th>50%</th>\n",
       "      <td>0.0</td>\n",
       "      <td>0.0</td>\n",
       "      <td>0.0</td>\n",
       "      <td>0.0</td>\n",
       "      <td>0.0</td>\n",
       "      <td>0.0</td>\n",
       "      <td>0.0</td>\n",
       "      <td>0.0</td>\n",
       "      <td>0.0</td>\n",
       "      <td>0.0</td>\n",
       "      <td>...</td>\n",
       "      <td>0.000000</td>\n",
       "      <td>0.000000</td>\n",
       "      <td>0.000000</td>\n",
       "      <td>0.00000</td>\n",
       "      <td>0.000000</td>\n",
       "      <td>0.000000</td>\n",
       "      <td>0.0</td>\n",
       "      <td>0.0</td>\n",
       "      <td>0.0</td>\n",
       "      <td>0.0</td>\n",
       "    </tr>\n",
       "    <tr>\n",
       "      <th>75%</th>\n",
       "      <td>0.0</td>\n",
       "      <td>0.0</td>\n",
       "      <td>0.0</td>\n",
       "      <td>0.0</td>\n",
       "      <td>0.0</td>\n",
       "      <td>0.0</td>\n",
       "      <td>0.0</td>\n",
       "      <td>0.0</td>\n",
       "      <td>0.0</td>\n",
       "      <td>0.0</td>\n",
       "      <td>...</td>\n",
       "      <td>0.000000</td>\n",
       "      <td>0.000000</td>\n",
       "      <td>0.000000</td>\n",
       "      <td>0.00000</td>\n",
       "      <td>0.000000</td>\n",
       "      <td>0.000000</td>\n",
       "      <td>0.0</td>\n",
       "      <td>0.0</td>\n",
       "      <td>0.0</td>\n",
       "      <td>0.0</td>\n",
       "    </tr>\n",
       "    <tr>\n",
       "      <th>max</th>\n",
       "      <td>0.0</td>\n",
       "      <td>0.0</td>\n",
       "      <td>0.0</td>\n",
       "      <td>0.0</td>\n",
       "      <td>0.0</td>\n",
       "      <td>0.0</td>\n",
       "      <td>0.0</td>\n",
       "      <td>0.0</td>\n",
       "      <td>0.0</td>\n",
       "      <td>0.0</td>\n",
       "      <td>...</td>\n",
       "      <td>254.000000</td>\n",
       "      <td>254.000000</td>\n",
       "      <td>253.000000</td>\n",
       "      <td>253.00000</td>\n",
       "      <td>254.000000</td>\n",
       "      <td>62.000000</td>\n",
       "      <td>0.0</td>\n",
       "      <td>0.0</td>\n",
       "      <td>0.0</td>\n",
       "      <td>0.0</td>\n",
       "    </tr>\n",
       "  </tbody>\n",
       "</table>\n",
       "<p>8 rows × 784 columns</p>\n",
       "</div>"
      ],
      "text/plain": [
       "           0        1        2        3        4        5        6        7    \\\n",
       "count  42000.0  42000.0  42000.0  42000.0  42000.0  42000.0  42000.0  42000.0   \n",
       "mean       0.0      0.0      0.0      0.0      0.0      0.0      0.0      0.0   \n",
       "std        0.0      0.0      0.0      0.0      0.0      0.0      0.0      0.0   \n",
       "min        0.0      0.0      0.0      0.0      0.0      0.0      0.0      0.0   \n",
       "25%        0.0      0.0      0.0      0.0      0.0      0.0      0.0      0.0   \n",
       "50%        0.0      0.0      0.0      0.0      0.0      0.0      0.0      0.0   \n",
       "75%        0.0      0.0      0.0      0.0      0.0      0.0      0.0      0.0   \n",
       "max        0.0      0.0      0.0      0.0      0.0      0.0      0.0      0.0   \n",
       "\n",
       "           8        9    ...           774           775           776  \\\n",
       "count  42000.0  42000.0  ...  42000.000000  42000.000000  42000.000000   \n",
       "mean       0.0      0.0  ...      0.219286      0.117095      0.059024   \n",
       "std        0.0      0.0  ...      6.312890      4.633819      3.274488   \n",
       "min        0.0      0.0  ...      0.000000      0.000000      0.000000   \n",
       "25%        0.0      0.0  ...      0.000000      0.000000      0.000000   \n",
       "50%        0.0      0.0  ...      0.000000      0.000000      0.000000   \n",
       "75%        0.0      0.0  ...      0.000000      0.000000      0.000000   \n",
       "max        0.0      0.0  ...    254.000000    254.000000    253.000000   \n",
       "\n",
       "               777           778           779      780      781      782  \\\n",
       "count  42000.00000  42000.000000  42000.000000  42000.0  42000.0  42000.0   \n",
       "mean       0.02019      0.017238      0.002857      0.0      0.0      0.0   \n",
       "std        1.75987      1.894498      0.414264      0.0      0.0      0.0   \n",
       "min        0.00000      0.000000      0.000000      0.0      0.0      0.0   \n",
       "25%        0.00000      0.000000      0.000000      0.0      0.0      0.0   \n",
       "50%        0.00000      0.000000      0.000000      0.0      0.0      0.0   \n",
       "75%        0.00000      0.000000      0.000000      0.0      0.0      0.0   \n",
       "max      253.00000    254.000000     62.000000      0.0      0.0      0.0   \n",
       "\n",
       "           783  \n",
       "count  42000.0  \n",
       "mean       0.0  \n",
       "std        0.0  \n",
       "min        0.0  \n",
       "25%        0.0  \n",
       "50%        0.0  \n",
       "75%        0.0  \n",
       "max        0.0  \n",
       "\n",
       "[8 rows x 784 columns]"
      ]
     },
     "execution_count": 81,
     "metadata": {},
     "output_type": "execute_result"
    }
   ],
   "source": [
    "# get descriptive statistics\n",
    "df = pd.DataFrame(digits)\n",
    "df.describe()"
   ]
  },
  {
   "cell_type": "code",
   "execution_count": 84,
   "id": "6f2f70af",
   "metadata": {},
   "outputs": [
    {
     "data": {
      "text/html": [
       "<div>\n",
       "<style scoped>\n",
       "    .dataframe tbody tr th:only-of-type {\n",
       "        vertical-align: middle;\n",
       "    }\n",
       "\n",
       "    .dataframe tbody tr th {\n",
       "        vertical-align: top;\n",
       "    }\n",
       "\n",
       "    .dataframe thead th {\n",
       "        text-align: right;\n",
       "    }\n",
       "</style>\n",
       "<table border=\"1\" class=\"dataframe\">\n",
       "  <thead>\n",
       "    <tr style=\"text-align: right;\">\n",
       "      <th></th>\n",
       "      <th>12</th>\n",
       "      <th>13</th>\n",
       "      <th>14</th>\n",
       "      <th>34</th>\n",
       "      <th>35</th>\n",
       "      <th>36</th>\n",
       "      <th>37</th>\n",
       "      <th>38</th>\n",
       "      <th>39</th>\n",
       "      <th>40</th>\n",
       "      <th>...</th>\n",
       "      <th>770</th>\n",
       "      <th>771</th>\n",
       "      <th>772</th>\n",
       "      <th>773</th>\n",
       "      <th>774</th>\n",
       "      <th>775</th>\n",
       "      <th>776</th>\n",
       "      <th>777</th>\n",
       "      <th>778</th>\n",
       "      <th>779</th>\n",
       "    </tr>\n",
       "  </thead>\n",
       "  <tbody>\n",
       "    <tr>\n",
       "      <th>count</th>\n",
       "      <td>42000.00000</td>\n",
       "      <td>42000.000000</td>\n",
       "      <td>42000.000000</td>\n",
       "      <td>42000.000000</td>\n",
       "      <td>42000.000000</td>\n",
       "      <td>42000.000000</td>\n",
       "      <td>42000.000000</td>\n",
       "      <td>42000.000000</td>\n",
       "      <td>42000.000000</td>\n",
       "      <td>42000.000000</td>\n",
       "      <td>...</td>\n",
       "      <td>42000.000000</td>\n",
       "      <td>42000.00000</td>\n",
       "      <td>42000.000000</td>\n",
       "      <td>42000.000000</td>\n",
       "      <td>42000.000000</td>\n",
       "      <td>42000.000000</td>\n",
       "      <td>42000.000000</td>\n",
       "      <td>42000.00000</td>\n",
       "      <td>42000.000000</td>\n",
       "      <td>42000.000000</td>\n",
       "    </tr>\n",
       "    <tr>\n",
       "      <th>mean</th>\n",
       "      <td>0.00300</td>\n",
       "      <td>0.011190</td>\n",
       "      <td>0.005143</td>\n",
       "      <td>0.010548</td>\n",
       "      <td>0.027262</td>\n",
       "      <td>0.050905</td>\n",
       "      <td>0.066405</td>\n",
       "      <td>0.129571</td>\n",
       "      <td>0.174119</td>\n",
       "      <td>0.191310</td>\n",
       "      <td>...</td>\n",
       "      <td>0.677857</td>\n",
       "      <td>0.60281</td>\n",
       "      <td>0.489238</td>\n",
       "      <td>0.340214</td>\n",
       "      <td>0.219286</td>\n",
       "      <td>0.117095</td>\n",
       "      <td>0.059024</td>\n",
       "      <td>0.02019</td>\n",
       "      <td>0.017238</td>\n",
       "      <td>0.002857</td>\n",
       "    </tr>\n",
       "    <tr>\n",
       "      <th>std</th>\n",
       "      <td>0.56812</td>\n",
       "      <td>1.626927</td>\n",
       "      <td>1.053972</td>\n",
       "      <td>1.131661</td>\n",
       "      <td>2.310396</td>\n",
       "      <td>3.121847</td>\n",
       "      <td>3.259128</td>\n",
       "      <td>4.992894</td>\n",
       "      <td>5.810949</td>\n",
       "      <td>5.995212</td>\n",
       "      <td>...</td>\n",
       "      <td>11.254931</td>\n",
       "      <td>10.69603</td>\n",
       "      <td>9.480066</td>\n",
       "      <td>7.950251</td>\n",
       "      <td>6.312890</td>\n",
       "      <td>4.633819</td>\n",
       "      <td>3.274488</td>\n",
       "      <td>1.75987</td>\n",
       "      <td>1.894498</td>\n",
       "      <td>0.414264</td>\n",
       "    </tr>\n",
       "    <tr>\n",
       "      <th>min</th>\n",
       "      <td>0.00000</td>\n",
       "      <td>0.000000</td>\n",
       "      <td>0.000000</td>\n",
       "      <td>0.000000</td>\n",
       "      <td>0.000000</td>\n",
       "      <td>0.000000</td>\n",
       "      <td>0.000000</td>\n",
       "      <td>0.000000</td>\n",
       "      <td>0.000000</td>\n",
       "      <td>0.000000</td>\n",
       "      <td>...</td>\n",
       "      <td>0.000000</td>\n",
       "      <td>0.00000</td>\n",
       "      <td>0.000000</td>\n",
       "      <td>0.000000</td>\n",
       "      <td>0.000000</td>\n",
       "      <td>0.000000</td>\n",
       "      <td>0.000000</td>\n",
       "      <td>0.00000</td>\n",
       "      <td>0.000000</td>\n",
       "      <td>0.000000</td>\n",
       "    </tr>\n",
       "    <tr>\n",
       "      <th>25%</th>\n",
       "      <td>0.00000</td>\n",
       "      <td>0.000000</td>\n",
       "      <td>0.000000</td>\n",
       "      <td>0.000000</td>\n",
       "      <td>0.000000</td>\n",
       "      <td>0.000000</td>\n",
       "      <td>0.000000</td>\n",
       "      <td>0.000000</td>\n",
       "      <td>0.000000</td>\n",
       "      <td>0.000000</td>\n",
       "      <td>...</td>\n",
       "      <td>0.000000</td>\n",
       "      <td>0.00000</td>\n",
       "      <td>0.000000</td>\n",
       "      <td>0.000000</td>\n",
       "      <td>0.000000</td>\n",
       "      <td>0.000000</td>\n",
       "      <td>0.000000</td>\n",
       "      <td>0.00000</td>\n",
       "      <td>0.000000</td>\n",
       "      <td>0.000000</td>\n",
       "    </tr>\n",
       "    <tr>\n",
       "      <th>50%</th>\n",
       "      <td>0.00000</td>\n",
       "      <td>0.000000</td>\n",
       "      <td>0.000000</td>\n",
       "      <td>0.000000</td>\n",
       "      <td>0.000000</td>\n",
       "      <td>0.000000</td>\n",
       "      <td>0.000000</td>\n",
       "      <td>0.000000</td>\n",
       "      <td>0.000000</td>\n",
       "      <td>0.000000</td>\n",
       "      <td>...</td>\n",
       "      <td>0.000000</td>\n",
       "      <td>0.00000</td>\n",
       "      <td>0.000000</td>\n",
       "      <td>0.000000</td>\n",
       "      <td>0.000000</td>\n",
       "      <td>0.000000</td>\n",
       "      <td>0.000000</td>\n",
       "      <td>0.00000</td>\n",
       "      <td>0.000000</td>\n",
       "      <td>0.000000</td>\n",
       "    </tr>\n",
       "    <tr>\n",
       "      <th>75%</th>\n",
       "      <td>0.00000</td>\n",
       "      <td>0.000000</td>\n",
       "      <td>0.000000</td>\n",
       "      <td>0.000000</td>\n",
       "      <td>0.000000</td>\n",
       "      <td>0.000000</td>\n",
       "      <td>0.000000</td>\n",
       "      <td>0.000000</td>\n",
       "      <td>0.000000</td>\n",
       "      <td>0.000000</td>\n",
       "      <td>...</td>\n",
       "      <td>0.000000</td>\n",
       "      <td>0.00000</td>\n",
       "      <td>0.000000</td>\n",
       "      <td>0.000000</td>\n",
       "      <td>0.000000</td>\n",
       "      <td>0.000000</td>\n",
       "      <td>0.000000</td>\n",
       "      <td>0.00000</td>\n",
       "      <td>0.000000</td>\n",
       "      <td>0.000000</td>\n",
       "    </tr>\n",
       "    <tr>\n",
       "      <th>max</th>\n",
       "      <td>116.00000</td>\n",
       "      <td>254.000000</td>\n",
       "      <td>216.000000</td>\n",
       "      <td>157.000000</td>\n",
       "      <td>254.000000</td>\n",
       "      <td>255.000000</td>\n",
       "      <td>243.000000</td>\n",
       "      <td>255.000000</td>\n",
       "      <td>255.000000</td>\n",
       "      <td>255.000000</td>\n",
       "      <td>...</td>\n",
       "      <td>255.000000</td>\n",
       "      <td>255.00000</td>\n",
       "      <td>255.000000</td>\n",
       "      <td>255.000000</td>\n",
       "      <td>254.000000</td>\n",
       "      <td>254.000000</td>\n",
       "      <td>253.000000</td>\n",
       "      <td>253.00000</td>\n",
       "      <td>254.000000</td>\n",
       "      <td>62.000000</td>\n",
       "    </tr>\n",
       "  </tbody>\n",
       "</table>\n",
       "<p>8 rows × 688 columns</p>\n",
       "</div>"
      ],
      "text/plain": [
       "               12            13            14            34            35   \\\n",
       "count  42000.00000  42000.000000  42000.000000  42000.000000  42000.000000   \n",
       "mean       0.00300      0.011190      0.005143      0.010548      0.027262   \n",
       "std        0.56812      1.626927      1.053972      1.131661      2.310396   \n",
       "min        0.00000      0.000000      0.000000      0.000000      0.000000   \n",
       "25%        0.00000      0.000000      0.000000      0.000000      0.000000   \n",
       "50%        0.00000      0.000000      0.000000      0.000000      0.000000   \n",
       "75%        0.00000      0.000000      0.000000      0.000000      0.000000   \n",
       "max      116.00000    254.000000    216.000000    157.000000    254.000000   \n",
       "\n",
       "                36            37            38            39            40   \\\n",
       "count  42000.000000  42000.000000  42000.000000  42000.000000  42000.000000   \n",
       "mean       0.050905      0.066405      0.129571      0.174119      0.191310   \n",
       "std        3.121847      3.259128      4.992894      5.810949      5.995212   \n",
       "min        0.000000      0.000000      0.000000      0.000000      0.000000   \n",
       "25%        0.000000      0.000000      0.000000      0.000000      0.000000   \n",
       "50%        0.000000      0.000000      0.000000      0.000000      0.000000   \n",
       "75%        0.000000      0.000000      0.000000      0.000000      0.000000   \n",
       "max      255.000000    243.000000    255.000000    255.000000    255.000000   \n",
       "\n",
       "       ...           770          771           772           773  \\\n",
       "count  ...  42000.000000  42000.00000  42000.000000  42000.000000   \n",
       "mean   ...      0.677857      0.60281      0.489238      0.340214   \n",
       "std    ...     11.254931     10.69603      9.480066      7.950251   \n",
       "min    ...      0.000000      0.00000      0.000000      0.000000   \n",
       "25%    ...      0.000000      0.00000      0.000000      0.000000   \n",
       "50%    ...      0.000000      0.00000      0.000000      0.000000   \n",
       "75%    ...      0.000000      0.00000      0.000000      0.000000   \n",
       "max    ...    255.000000    255.00000    255.000000    255.000000   \n",
       "\n",
       "                774           775           776          777           778  \\\n",
       "count  42000.000000  42000.000000  42000.000000  42000.00000  42000.000000   \n",
       "mean       0.219286      0.117095      0.059024      0.02019      0.017238   \n",
       "std        6.312890      4.633819      3.274488      1.75987      1.894498   \n",
       "min        0.000000      0.000000      0.000000      0.00000      0.000000   \n",
       "25%        0.000000      0.000000      0.000000      0.00000      0.000000   \n",
       "50%        0.000000      0.000000      0.000000      0.00000      0.000000   \n",
       "75%        0.000000      0.000000      0.000000      0.00000      0.000000   \n",
       "max      254.000000    254.000000    253.000000    253.00000    254.000000   \n",
       "\n",
       "                779  \n",
       "count  42000.000000  \n",
       "mean       0.002857  \n",
       "std        0.414264  \n",
       "min        0.000000  \n",
       "25%        0.000000  \n",
       "50%        0.000000  \n",
       "75%        0.000000  \n",
       "max       62.000000  \n",
       "\n",
       "[8 rows x 688 columns]"
      ]
     },
     "execution_count": 84,
     "metadata": {},
     "output_type": "execute_result"
    }
   ],
   "source": [
    "# remove constant columns (i.e. pixels with no ink)\n",
    "var_thr = VarianceThreshold(threshold = 0)\n",
    "var_thr.fit(df)\n",
    "concol = [column for column in df.columns \n",
    "          if column not in df.columns[var_thr.get_support()]]\n",
    "df = df.drop(concol,axis=1) # 708 columns remaining\n",
    "df.describe()"
   ]
  },
  {
   "cell_type": "code",
   "execution_count": 8,
   "id": "cc68af30",
   "metadata": {},
   "outputs": [
    {
     "data": {
      "image/png": "[encoded data removed]",
      "text/plain": [
       "<Figure size 432x288 with 1 Axes>"
      ]
     },
     "metadata": {
      "needs_background": "light"
     },
     "output_type": "display_data"
    }
   ],
   "source": [
    "plt.hist(labels, bins=19)\n",
    "plt.show()"
   ]
  },
  {
   "cell_type": "code",
   "execution_count": 9,
   "id": "0e7ad16c",
   "metadata": {},
   "outputs": [
    {
     "name": "stdout",
     "output_type": "stream",
     "text": [
      "[1]\n"
     ]
    }
   ],
   "source": [
    "# calculate the majority class\n",
    "mode = stats.mode(labels)\n",
    "print(mode[0]) # 1 is the majority class"
   ]
  },
  {
   "cell_type": "markdown",
   "id": "c0b95042",
   "metadata": {},
   "source": [
    "## Task 2"
   ]
  },
  {
   "cell_type": "code",
   "execution_count": 10,
   "id": "13077584",
   "metadata": {},
   "outputs": [],
   "source": [
    "# calculate the ink per image\n",
    "ink = np.array([sum(row) for row in digits])\n",
    "# calculate the mean ink per digit class\n",
    "ink_mean = [np.mean(ink[labels == i]) for i in range(10)]\n",
    "# claclulate the std per digit class\n",
    "ink_std = [np.std(ink[labels == i]) for i in range(10)]"
   ]
  },
  {
   "cell_type": "code",
   "execution_count": 11,
   "id": "eb9ede71",
   "metadata": {},
   "outputs": [
    {
     "data": {
      "text/plain": [
       "array([[1.00000000e+00, 1.51884663e+04, 4.40946170e+03],\n",
       "       [7.00000000e+00, 2.29312443e+04, 6.16834088e+03],\n",
       "       [4.00000000e+00, 2.42327225e+04, 6.37463346e+03],\n",
       "       [9.00000000e+00, 2.45537500e+04, 6.46523133e+03],\n",
       "       [5.00000000e+00, 2.58359204e+04, 7.52660299e+03],\n",
       "       [6.00000000e+00, 2.77349173e+04, 7.53050319e+03],\n",
       "       [3.00000000e+00, 2.83201880e+04, 7.57410454e+03],\n",
       "       [2.00000000e+00, 2.98710994e+04, 7.65300620e+03],\n",
       "       [8.00000000e+00, 3.01841484e+04, 7.77739636e+03],\n",
       "       [0.00000000e+00, 3.46324076e+04, 8.46189204e+03]])"
      ]
     },
     "execution_count": 11,
     "metadata": {},
     "output_type": "execute_result"
    }
   ],
   "source": [
    "labels_ink = np.column_stack((range(10), ink_mean, ink_std))\n",
    "labels_ink[labels_ink[:, 1].argsort()]\n",
    "# digit 0 and 1 will be the easiest to distinguish\n",
    "# digit 4 and 9 as well as digit 2 and 8 and digit 3 and 6 will be especially hard to distinguish"
   ]
  },
  {
   "cell_type": "code",
   "execution_count": 12,
   "id": "b71f2468",
   "metadata": {},
   "outputs": [],
   "source": [
    "# z-score standardize ink feature\n",
    "from sklearn.preprocessing import scale\n",
    "ink = scale(ink).reshape(-1, 1)"
   ]
  },
  {
   "cell_type": "code",
   "execution_count": 13,
   "id": "bfe624b0",
   "metadata": {},
   "outputs": [],
   "source": [
    "from sklearn.linear_model import LogisticRegression\n",
    "mlr_ink = LogisticRegression(multi_class='multinomial', random_state=16).fit(ink, labels)"
   ]
  },
  {
   "cell_type": "code",
   "execution_count": 14,
   "id": "04012bd5",
   "metadata": {},
   "outputs": [
    {
     "data": {
      "text/plain": [
       "0.22680952380952382"
      ]
     },
     "execution_count": 14,
     "metadata": {},
     "output_type": "execute_result"
    }
   ],
   "source": [
    "pred_labels = mlr_ink.predict(ink)\n",
    "mlr_ink.score(ink, labels) # accuracy = 0.23"
   ]
  },
  {
   "cell_type": "markdown",
   "id": "3d4a2914",
   "metadata": {},
   "source": [
    "## Task 3"
   ]
  },
  {
   "cell_type": "code",
   "execution_count": 15,
   "id": "59769f9c",
   "metadata": {},
   "outputs": [],
   "source": [
    "import math\n",
    "angle = np.zeros((len(digits), 1))\n",
    "\n",
    "# calculate the angle of the first to the last non-zero pixel\n",
    "for image in range(0, len(digits)):\n",
    "    pixels = np.array(np.where(digits[image,:] > 0))\n",
    "    first_pixel = pixels[:,0]\n",
    "    last_pixel = pixels[:,-1]\n",
    "    angle[image] = math.atan2(first_pixel,last_pixel) "
   ]
  },
  {
   "cell_type": "code",
   "execution_count": 16,
   "id": "54822618",
   "metadata": {},
   "outputs": [],
   "source": [
    "# calculate the mean angle per digit class\n",
    "angle_mean = [np.mean(angle[labels == i]) for i in range(10)]\n",
    "# claclulate the std per digit class\n",
    "angle_std = [np.std(angle[labels == i]) for i in range(10)]"
   ]
  },
  {
   "cell_type": "code",
   "execution_count": 18,
   "id": "97968aa7",
   "metadata": {},
   "outputs": [
    {
     "data": {
      "text/plain": [
       "array([[6.        , 0.13480815, 0.02991747],\n",
       "       [2.        , 0.18740269, 0.0502869 ],\n",
       "       [1.        , 0.20070971, 0.01833319],\n",
       "       [3.        , 0.20295307, 0.02845111],\n",
       "       [0.        , 0.20633279, 0.03533058],\n",
       "       [8.        , 0.21387058, 0.02416395],\n",
       "       [4.        , 0.22139086, 0.02552286],\n",
       "       [5.        , 0.23635413, 0.05788499],\n",
       "       [9.        , 0.25286872, 0.01764282],\n",
       "       [7.        , 0.26603898, 0.02351628]])"
      ]
     },
     "execution_count": 18,
     "metadata": {},
     "output_type": "execute_result"
    }
   ],
   "source": [
    "labels_angle = np.column_stack((range(10), angle_mean, angle_std))\n",
    "labels_angle[labels_angle[:, 1].argsort()]\n",
    "# digit 6 will be the easiest to distinguish\n",
    "# digit 3 and 0 will be especially hard to distinguish"
   ]
  },
  {
   "cell_type": "code",
   "execution_count": 19,
   "id": "0fd470ec",
   "metadata": {},
   "outputs": [],
   "source": [
    "# z-score standardize ncomp feature\n",
    "angle = scale(angle).reshape(-1, 1)"
   ]
  },
  {
   "cell_type": "code",
   "execution_count": 20,
   "id": "42516144",
   "metadata": {},
   "outputs": [],
   "source": [
    "mlr_angle = LogisticRegression(multi_class='multinomial', random_state=16).fit(angle, labels)"
   ]
  },
  {
   "cell_type": "code",
   "execution_count": 21,
   "id": "f051d492",
   "metadata": {},
   "outputs": [
    {
     "data": {
      "text/plain": [
       "0.3428809523809524"
      ]
     },
     "execution_count": 21,
     "metadata": {},
     "output_type": "execute_result"
    }
   ],
   "source": [
    "pred_labels = mlr_angle.predict(angle)\n",
    "mlr_angle.score(angle, labels) # accuracy = 0.34"
   ]
  },
  {
   "cell_type": "markdown",
   "id": "a9878aa3",
   "metadata": {},
   "source": [
    "## Task 4"
   ]
  },
  {
   "cell_type": "code",
   "execution_count": 22,
   "id": "355d6b41",
   "metadata": {},
   "outputs": [],
   "source": [
    "features = np.hstack((ink, angle))"
   ]
  },
  {
   "cell_type": "code",
   "execution_count": 23,
   "id": "d91b0cf6",
   "metadata": {},
   "outputs": [],
   "source": [
    "mlr_both = LogisticRegression(multi_class='multinomial', random_state=16).fit(features, labels)"
   ]
  },
  {
   "cell_type": "code",
   "execution_count": 24,
   "id": "e524d77c",
   "metadata": {},
   "outputs": [
    {
     "data": {
      "text/plain": [
       "0.39804761904761904"
      ]
     },
     "execution_count": 24,
     "metadata": {},
     "output_type": "execute_result"
    }
   ],
   "source": [
    "pred_labels = mlr_both.predict(features)\n",
    "mlr_both.score(features, labels) # accuracy = 0.40"
   ]
  },
  {
   "cell_type": "markdown",
   "id": "2071a325",
   "metadata": {},
   "source": [
    "## Task 5"
   ]
  },
  {
   "cell_type": "code",
   "execution_count": 417,
   "id": "bb41402c",
   "metadata": {},
   "outputs": [
    {
     "name": "stdout",
     "output_type": "stream",
     "text": [
      "Collecting opencv-python\n",
      "  Downloading opencv_python-4.6.0.66-cp36-abi3-macosx_10_15_x86_64.whl (46.4 MB)\n",
      "\u001b[K     |████████████████████████████████| 46.4 MB 214 kB/s eta 0:00:01    |▊                               | 1.0 MB 3.8 MB/s eta 0:00:13     |████████████████                | 23.2 MB 5.9 MB/s eta 0:00:04\n",
      "\u001b[?25hRequirement already satisfied: numpy>=1.14.5 in /Users/noltinho/opt/anaconda3/lib/python3.9/site-packages (from opencv-python) (1.21.5)\n",
      "Installing collected packages: opencv-python\n",
      "Successfully installed opencv-python-4.6.0.66\n"
     ]
    }
   ],
   "source": [
    "#!pip install opencv-python"
   ]
  },
  {
   "cell_type": "code",
   "execution_count": 71,
   "id": "46994ebf",
   "metadata": {},
   "outputs": [
    {
     "data": {
      "text/plain": [
       "(42000, 707)"
      ]
     },
     "execution_count": 71,
     "metadata": {},
     "output_type": "execute_result"
    }
   ],
   "source": [
    "from sklearn.preprocessing import StandardScaler\n",
    "scaler = StandardScaler()  \n",
    "mnist_scaled = scaler.fit_transform(df[:, 1:])\n",
    "mnist_scaled.shape"
   ]
  },
  {
   "cell_type": "code",
   "execution_count": 75,
   "id": "9bd0d93f",
   "metadata": {},
   "outputs": [
    {
     "data": {
      "text/plain": [
       "(42000, 708)"
      ]
     },
     "execution_count": 75,
     "metadata": {},
     "output_type": "execute_result"
    }
   ],
   "source": [
    "mnist_scaled = np.column_stack((labels, mnist_scaled))\n",
    "mnist_scaled.shape"
   ]
  },
  {
   "cell_type": "code",
   "execution_count": 76,
   "id": "7fad52d1",
   "metadata": {},
   "outputs": [],
   "source": [
    "index = np.random.choice(mnist_scaled.shape[0], 5000, replace=False)\n",
    "sample = mnist_scaled[index]"
   ]
  },
  {
   "cell_type": "code",
   "execution_count": 77,
   "id": "9a8d7f5d",
   "metadata": {},
   "outputs": [],
   "source": [
    "sample_labels = sample[:, 0]\n",
    "sample_digits = sample[:, 1:]"
   ]
  },
  {
   "cell_type": "code",
   "execution_count": 95,
   "id": "6b82b7ac",
   "metadata": {},
   "outputs": [
    {
     "data": {
      "image/png": "[encoded data removed]",
      "text/plain": [
       "<Figure size 432x288 with 1 Axes>"
      ]
     },
     "metadata": {
      "needs_background": "light"
     },
     "output_type": "display_data"
    }
   ],
   "source": [
    "plt.hist(sample_labels, bins=19)\n",
    "plt.show()"
   ]
  },
  {
   "cell_type": "code",
   "execution_count": null,
   "id": "642e046d",
   "metadata": {},
   "outputs": [],
   "source": [
    "test_data = np.delete(mnist_scaled, index, axis=0)\n",
    "test_labels = sample[:, 0]\n",
    "test_digits = sample[:, 1:]"
   ]
  },
  {
   "cell_type": "code",
   "execution_count": 78,
   "id": "8dfa6dce",
   "metadata": {},
   "outputs": [
    {
     "data": {
      "text/plain": [
       "array([1.e-03, 1.e-02, 1.e-01, 1.e+00, 1.e+01, 1.e+02, 1.e+03])"
      ]
     },
     "execution_count": 78,
     "metadata": {},
     "output_type": "execute_result"
    }
   ],
   "source": [
    "np.logspace(-3,3,7)"
   ]
  },
  {
   "cell_type": "code",
   "execution_count": null,
   "id": "abf3a042",
   "metadata": {},
   "outputs": [
    {
     "name": "stderr",
     "output_type": "stream",
     "text": [
      "/Users/noltinho/opt/anaconda3/lib/python3.9/site-packages/sklearn/linear_model/_sag.py:352: ConvergenceWarning: The max_iter was reached which means the coef_ did not converge\n",
      "  warnings.warn(\n"
     ]
    }
   ],
   "source": [
    "from sklearn.model_selection import GridSearchCV\n",
    "param = {'C':np.logspace(-3,3,7), 'penalty':['l1'], 'solver':['saga']}\n",
    "mlr = LogisticRegression(multi_class='multinomial', max_iter=1000, random_state=16)\n",
    "mlr_cv = GridSearchCV(mlr, param, cv=5, scoring='accuracy')\n",
    "mlr_cv.fit(sample_digits, sample_labels)"
   ]
  },
  {
   "cell_type": "code",
   "execution_count": 85,
   "id": "d9ca6782",
   "metadata": {},
   "outputs": [
    {
     "name": "stdout",
     "output_type": "stream",
     "text": [
      "tuned hpyerparameters :(best parameters)  {'C': 10.0, 'penalty': 'l1', 'solver': 'saga'}\n",
      "best score : 0.8966000000000001\n"
     ]
    }
   ],
   "source": [
    "print(\"tuned hpyerparameters :(best parameters) \",mlr_cv.best_params_)\n",
    "print(\"best score :\",mlr_cv.best_score_)"
   ]
  },
  {
   "cell_type": "code",
   "execution_count": 86,
   "id": "04977478",
   "metadata": {},
   "outputs": [
    {
     "data": {
      "text/html": [
       "<div>\n",
       "<style scoped>\n",
       "    .dataframe tbody tr th:only-of-type {\n",
       "        vertical-align: middle;\n",
       "    }\n",
       "\n",
       "    .dataframe tbody tr th {\n",
       "        vertical-align: top;\n",
       "    }\n",
       "\n",
       "    .dataframe thead th {\n",
       "        text-align: right;\n",
       "    }\n",
       "</style>\n",
       "<table border=\"1\" class=\"dataframe\">\n",
       "  <thead>\n",
       "    <tr style=\"text-align: right;\">\n",
       "      <th></th>\n",
       "      <th>params</th>\n",
       "      <th>split0_test_score</th>\n",
       "      <th>split1_test_score</th>\n",
       "      <th>split2_test_score</th>\n",
       "      <th>split3_test_score</th>\n",
       "      <th>split4_test_score</th>\n",
       "    </tr>\n",
       "  </thead>\n",
       "  <tbody>\n",
       "    <tr>\n",
       "      <th>0</th>\n",
       "      <td>{'C': 0.001, 'penalty': 'l1', 'solver': 'saga'}</td>\n",
       "      <td>0.113</td>\n",
       "      <td>0.112</td>\n",
       "      <td>0.112</td>\n",
       "      <td>0.113</td>\n",
       "      <td>0.113</td>\n",
       "    </tr>\n",
       "    <tr>\n",
       "      <th>1</th>\n",
       "      <td>{'C': 0.01, 'penalty': 'l1', 'solver': 'saga'}</td>\n",
       "      <td>0.803</td>\n",
       "      <td>0.838</td>\n",
       "      <td>0.808</td>\n",
       "      <td>0.824</td>\n",
       "      <td>0.830</td>\n",
       "    </tr>\n",
       "    <tr>\n",
       "      <th>2</th>\n",
       "      <td>{'C': 0.1, 'penalty': 'l1', 'solver': 'saga'}</td>\n",
       "      <td>0.878</td>\n",
       "      <td>0.891</td>\n",
       "      <td>0.893</td>\n",
       "      <td>0.889</td>\n",
       "      <td>0.903</td>\n",
       "    </tr>\n",
       "    <tr>\n",
       "      <th>3</th>\n",
       "      <td>{'C': 1.0, 'penalty': 'l1', 'solver': 'saga'}</td>\n",
       "      <td>0.887</td>\n",
       "      <td>0.891</td>\n",
       "      <td>0.901</td>\n",
       "      <td>0.892</td>\n",
       "      <td>0.906</td>\n",
       "    </tr>\n",
       "    <tr>\n",
       "      <th>4</th>\n",
       "      <td>{'C': 10.0, 'penalty': 'l1', 'solver': 'saga'}</td>\n",
       "      <td>0.888</td>\n",
       "      <td>0.890</td>\n",
       "      <td>0.906</td>\n",
       "      <td>0.892</td>\n",
       "      <td>0.907</td>\n",
       "    </tr>\n",
       "    <tr>\n",
       "      <th>5</th>\n",
       "      <td>{'C': 100.0, 'penalty': 'l1', 'solver': 'saga'}</td>\n",
       "      <td>0.888</td>\n",
       "      <td>0.890</td>\n",
       "      <td>0.906</td>\n",
       "      <td>0.892</td>\n",
       "      <td>0.907</td>\n",
       "    </tr>\n",
       "    <tr>\n",
       "      <th>6</th>\n",
       "      <td>{'C': 1000.0, 'penalty': 'l1', 'solver': 'saga'}</td>\n",
       "      <td>0.888</td>\n",
       "      <td>0.890</td>\n",
       "      <td>0.906</td>\n",
       "      <td>0.892</td>\n",
       "      <td>0.907</td>\n",
       "    </tr>\n",
       "  </tbody>\n",
       "</table>\n",
       "</div>"
      ],
      "text/plain": [
       "                                             params  split0_test_score  \\\n",
       "0   {'C': 0.001, 'penalty': 'l1', 'solver': 'saga'}              0.113   \n",
       "1    {'C': 0.01, 'penalty': 'l1', 'solver': 'saga'}              0.803   \n",
       "2     {'C': 0.1, 'penalty': 'l1', 'solver': 'saga'}              0.878   \n",
       "3     {'C': 1.0, 'penalty': 'l1', 'solver': 'saga'}              0.887   \n",
       "4    {'C': 10.0, 'penalty': 'l1', 'solver': 'saga'}              0.888   \n",
       "5   {'C': 100.0, 'penalty': 'l1', 'solver': 'saga'}              0.888   \n",
       "6  {'C': 1000.0, 'penalty': 'l1', 'solver': 'saga'}              0.888   \n",
       "\n",
       "   split1_test_score  split2_test_score  split3_test_score  split4_test_score  \n",
       "0              0.112              0.112              0.113              0.113  \n",
       "1              0.838              0.808              0.824              0.830  \n",
       "2              0.891              0.893              0.889              0.903  \n",
       "3              0.891              0.901              0.892              0.906  \n",
       "4              0.890              0.906              0.892              0.907  \n",
       "5              0.890              0.906              0.892              0.907  \n",
       "6              0.890              0.906              0.892              0.907  "
      ]
     },
     "execution_count": 86,
     "metadata": {},
     "output_type": "execute_result"
    }
   ],
   "source": [
    "res = pd.DataFrame(mlr_cv.cv_results_)\n",
    "res.iloc[:,res.columns.str.contains(\"split[0-9]_test_score|params\",regex=True)]"
   ]
  },
  {
   "cell_type": "code",
   "execution_count": 94,
   "id": "9f565d5c",
   "metadata": {},
   "outputs": [
    {
     "name": "stderr",
     "output_type": "stream",
     "text": [
      "/Users/noltinho/opt/anaconda3/lib/python3.9/site-packages/sklearn/linear_model/_sag.py:352: ConvergenceWarning: The max_iter was reached which means the coef_ did not converge\n",
      "  warnings.warn(\n"
     ]
    },
    {
     "data": {
      "text/plain": [
       "0.9308"
      ]
     },
     "execution_count": 94,
     "metadata": {},
     "output_type": "execute_result"
    }
   ],
   "source": [
    "mod = LogisticRegression(multi_class='multinomial', penalty='l1', C=10, solver='saga', random_state=16).fit(sample_digits, sample_labels)\n",
    "pred = mod.predict(test_digits)\n",
    "mod.score(test_digits, test_labels) # accuracy = 0.93"
   ]
  }
 ],
 "metadata": {
  "kernelspec": {
   "display_name": "Python 3 (ipykernel)",
   "language": "python",
   "name": "python3"
  },
  "language_info": {
   "codemirror_mode": {
    "name": "ipython",
    "version": 3
   },
   "file_extension": ".py",
   "mimetype": "text/x-python",
   "name": "python",
   "nbconvert_exporter": "python",
   "pygments_lexer": "ipython3",
   "version": "3.9.12"
  }
 },
 "nbformat": 4,
 "nbformat_minor": 5
}
